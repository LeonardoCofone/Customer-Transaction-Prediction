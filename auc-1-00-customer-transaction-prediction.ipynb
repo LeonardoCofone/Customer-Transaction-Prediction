{
 "cells": [
  {
   "cell_type": "markdown",
   "id": "81d7c575",
   "metadata": {
    "papermill": {
     "duration": 0.005105,
     "end_time": "2025-04-30T13:16:00.904052",
     "exception": false,
     "start_time": "2025-04-30T13:16:00.898947",
     "status": "completed"
    },
    "tags": []
   },
   "source": [
    "# **Santander Customer Transaction Prediction**"
   ]
  },
  {
   "cell_type": "markdown",
   "id": "b5b6ff5e",
   "metadata": {
    "papermill": {
     "duration": 0.003805,
     "end_time": "2025-04-30T13:16:00.912225",
     "exception": false,
     "start_time": "2025-04-30T13:16:00.908420",
     "status": "completed"
    },
    "tags": []
   },
   "source": [
    "## **Powered by Leonardo Cofone**"
   ]
  },
  {
   "cell_type": "code",
   "execution_count": 1,
   "id": "efab13c3",
   "metadata": {
    "execution": {
     "iopub.execute_input": "2025-04-30T13:16:00.921784Z",
     "iopub.status.busy": "2025-04-30T13:16:00.921415Z",
     "iopub.status.idle": "2025-04-30T13:16:19.004219Z",
     "shell.execute_reply": "2025-04-30T13:16:19.002713Z"
    },
    "papermill": {
     "duration": 18.090418,
     "end_time": "2025-04-30T13:16:19.006621",
     "exception": false,
     "start_time": "2025-04-30T13:16:00.916203",
     "status": "completed"
    },
    "tags": []
   },
   "outputs": [],
   "source": [
    "#install old libraries for compatibility\n",
    "!pip uninstall -y scikit-learn > /dev/null 2>&1\n",
    "!pip uninstall -y category-encoders > /dev/null 2>&1\n",
    "!pip uninstall -y imbalanced-learn > /dev/null 2>&1\n",
    "\n",
    "!pip install scikit-learn==1.1.3 > /dev/null 2>&1\n",
    "!pip install imbalanced-learn==0.9.1 > /dev/null 2>&1"
   ]
  },
  {
   "cell_type": "markdown",
   "id": "da4ea1d7",
   "metadata": {
    "papermill": {
     "duration": 0.004351,
     "end_time": "2025-04-30T13:16:19.015474",
     "exception": false,
     "start_time": "2025-04-30T13:16:19.011123",
     "status": "completed"
    },
    "tags": []
   },
   "source": [
    "**Now the setup is ready, leet's takee a look at the data**"
   ]
  },
  {
   "cell_type": "markdown",
   "id": "221c4ef1",
   "metadata": {
    "papermill": {
     "duration": 0.004012,
     "end_time": "2025-04-30T13:16:19.023921",
     "exception": false,
     "start_time": "2025-04-30T13:16:19.019909",
     "status": "completed"
    },
    "tags": []
   },
   "source": [
    "## **1) Analyze and work on data**"
   ]
  },
  {
   "cell_type": "code",
   "execution_count": 2,
   "id": "aa37ec36",
   "metadata": {
    "execution": {
     "iopub.execute_input": "2025-04-30T13:16:19.034654Z",
     "iopub.status.busy": "2025-04-30T13:16:19.034258Z",
     "iopub.status.idle": "2025-04-30T13:16:57.746646Z",
     "shell.execute_reply": "2025-04-30T13:16:57.745567Z"
    },
    "papermill": {
     "duration": 38.719999,
     "end_time": "2025-04-30T13:16:57.748543",
     "exception": false,
     "start_time": "2025-04-30T13:16:19.028544",
     "status": "completed"
    },
    "tags": []
   },
   "outputs": [
    {
     "name": "stderr",
     "output_type": "stream",
     "text": [
      "2025-04-30 13:16:22.751797: E external/local_xla/xla/stream_executor/cuda/cuda_fft.cc:477] Unable to register cuFFT factory: Attempting to register factory for plugin cuFFT when one has already been registered\n",
      "WARNING: All log messages before absl::InitializeLog() is called are written to STDERR\n",
      "E0000 00:00:1746018982.996413      13 cuda_dnn.cc:8310] Unable to register cuDNN factory: Attempting to register factory for plugin cuDNN when one has already been registered\n",
      "E0000 00:00:1746018983.070406      13 cuda_blas.cc:1418] Unable to register cuBLAS factory: Attempting to register factory for plugin cuBLAS when one has already been registered\n"
     ]
    }
   ],
   "source": [
    "import numpy as np\n",
    "import pandas as pd\n",
    "import tensorflow as tf\n",
    "import warnings\n",
    "warnings.filterwarnings('ignore')\n",
    "\n",
    "train_set = pd.read_csv(\"/kaggle/input/santander-customer-transaction-prediction-dataset/train.csv\")\n",
    "test_set = pd.read_csv(\"/kaggle/input/santander-customer-transaction-prediction-dataset/test.csv\")\n",
    "\n",
    "train_set = train_set.drop(columns=[\"ID_code\"])"
   ]
  },
  {
   "cell_type": "code",
   "execution_count": 3,
   "id": "13090df5",
   "metadata": {
    "execution": {
     "iopub.execute_input": "2025-04-30T13:16:57.759007Z",
     "iopub.status.busy": "2025-04-30T13:16:57.758706Z",
     "iopub.status.idle": "2025-04-30T13:16:57.764283Z",
     "shell.execute_reply": "2025-04-30T13:16:57.763107Z"
    },
    "papermill": {
     "duration": 0.012561,
     "end_time": "2025-04-30T13:16:57.765936",
     "exception": false,
     "start_time": "2025-04-30T13:16:57.753375",
     "status": "completed"
    },
    "tags": []
   },
   "outputs": [
    {
     "name": "stdout",
     "output_type": "stream",
     "text": [
      "train: (200000, 201)\n",
      "test: (200000, 201)\n"
     ]
    }
   ],
   "source": [
    "print(f\"train: {train_set.shape}\")\n",
    "print(f\"test: {test_set.shape}\")"
   ]
  },
  {
   "cell_type": "code",
   "execution_count": 4,
   "id": "58f5f29e",
   "metadata": {
    "execution": {
     "iopub.execute_input": "2025-04-30T13:16:57.775936Z",
     "iopub.status.busy": "2025-04-30T13:16:57.775637Z",
     "iopub.status.idle": "2025-04-30T13:16:57.809472Z",
     "shell.execute_reply": "2025-04-30T13:16:57.808540Z"
    },
    "papermill": {
     "duration": 0.040621,
     "end_time": "2025-04-30T13:16:57.811154",
     "exception": false,
     "start_time": "2025-04-30T13:16:57.770533",
     "status": "completed"
    },
    "tags": []
   },
   "outputs": [
    {
     "data": {
      "text/html": [
       "<div>\n",
       "<style scoped>\n",
       "    .dataframe tbody tr th:only-of-type {\n",
       "        vertical-align: middle;\n",
       "    }\n",
       "\n",
       "    .dataframe tbody tr th {\n",
       "        vertical-align: top;\n",
       "    }\n",
       "\n",
       "    .dataframe thead th {\n",
       "        text-align: right;\n",
       "    }\n",
       "</style>\n",
       "<table border=\"1\" class=\"dataframe\">\n",
       "  <thead>\n",
       "    <tr style=\"text-align: right;\">\n",
       "      <th></th>\n",
       "      <th>target</th>\n",
       "      <th>var_0</th>\n",
       "      <th>var_1</th>\n",
       "      <th>var_2</th>\n",
       "      <th>var_3</th>\n",
       "      <th>var_4</th>\n",
       "      <th>var_5</th>\n",
       "      <th>var_6</th>\n",
       "      <th>var_7</th>\n",
       "      <th>var_8</th>\n",
       "      <th>...</th>\n",
       "      <th>var_190</th>\n",
       "      <th>var_191</th>\n",
       "      <th>var_192</th>\n",
       "      <th>var_193</th>\n",
       "      <th>var_194</th>\n",
       "      <th>var_195</th>\n",
       "      <th>var_196</th>\n",
       "      <th>var_197</th>\n",
       "      <th>var_198</th>\n",
       "      <th>var_199</th>\n",
       "    </tr>\n",
       "  </thead>\n",
       "  <tbody>\n",
       "    <tr>\n",
       "      <th>0</th>\n",
       "      <td>0</td>\n",
       "      <td>8.9255</td>\n",
       "      <td>-6.7863</td>\n",
       "      <td>11.9081</td>\n",
       "      <td>5.0930</td>\n",
       "      <td>11.4607</td>\n",
       "      <td>-9.2834</td>\n",
       "      <td>5.1187</td>\n",
       "      <td>18.6266</td>\n",
       "      <td>-4.9200</td>\n",
       "      <td>...</td>\n",
       "      <td>4.4354</td>\n",
       "      <td>3.9642</td>\n",
       "      <td>3.1364</td>\n",
       "      <td>1.6910</td>\n",
       "      <td>18.5227</td>\n",
       "      <td>-2.3978</td>\n",
       "      <td>7.8784</td>\n",
       "      <td>8.5635</td>\n",
       "      <td>12.7803</td>\n",
       "      <td>-1.0914</td>\n",
       "    </tr>\n",
       "    <tr>\n",
       "      <th>1</th>\n",
       "      <td>0</td>\n",
       "      <td>11.5006</td>\n",
       "      <td>-4.1473</td>\n",
       "      <td>13.8588</td>\n",
       "      <td>5.3890</td>\n",
       "      <td>12.3622</td>\n",
       "      <td>7.0433</td>\n",
       "      <td>5.6208</td>\n",
       "      <td>16.5338</td>\n",
       "      <td>3.1468</td>\n",
       "      <td>...</td>\n",
       "      <td>7.6421</td>\n",
       "      <td>7.7214</td>\n",
       "      <td>2.5837</td>\n",
       "      <td>10.9516</td>\n",
       "      <td>15.4305</td>\n",
       "      <td>2.0339</td>\n",
       "      <td>8.1267</td>\n",
       "      <td>8.7889</td>\n",
       "      <td>18.3560</td>\n",
       "      <td>1.9518</td>\n",
       "    </tr>\n",
       "    <tr>\n",
       "      <th>2</th>\n",
       "      <td>0</td>\n",
       "      <td>8.6093</td>\n",
       "      <td>-2.7457</td>\n",
       "      <td>12.0805</td>\n",
       "      <td>7.8928</td>\n",
       "      <td>10.5825</td>\n",
       "      <td>-9.0837</td>\n",
       "      <td>6.9427</td>\n",
       "      <td>14.6155</td>\n",
       "      <td>-4.9193</td>\n",
       "      <td>...</td>\n",
       "      <td>2.9057</td>\n",
       "      <td>9.7905</td>\n",
       "      <td>1.6704</td>\n",
       "      <td>1.6858</td>\n",
       "      <td>21.6042</td>\n",
       "      <td>3.1417</td>\n",
       "      <td>-6.5213</td>\n",
       "      <td>8.2675</td>\n",
       "      <td>14.7222</td>\n",
       "      <td>0.3965</td>\n",
       "    </tr>\n",
       "    <tr>\n",
       "      <th>3</th>\n",
       "      <td>0</td>\n",
       "      <td>11.0604</td>\n",
       "      <td>-2.1518</td>\n",
       "      <td>8.9522</td>\n",
       "      <td>7.1957</td>\n",
       "      <td>12.5846</td>\n",
       "      <td>-1.8361</td>\n",
       "      <td>5.8428</td>\n",
       "      <td>14.9250</td>\n",
       "      <td>-5.8609</td>\n",
       "      <td>...</td>\n",
       "      <td>4.4666</td>\n",
       "      <td>4.7433</td>\n",
       "      <td>0.7178</td>\n",
       "      <td>1.4214</td>\n",
       "      <td>23.0347</td>\n",
       "      <td>-1.2706</td>\n",
       "      <td>-2.9275</td>\n",
       "      <td>10.2922</td>\n",
       "      <td>17.9697</td>\n",
       "      <td>-8.9996</td>\n",
       "    </tr>\n",
       "    <tr>\n",
       "      <th>4</th>\n",
       "      <td>0</td>\n",
       "      <td>9.8369</td>\n",
       "      <td>-1.4834</td>\n",
       "      <td>12.8746</td>\n",
       "      <td>6.6375</td>\n",
       "      <td>12.2772</td>\n",
       "      <td>2.4486</td>\n",
       "      <td>5.9405</td>\n",
       "      <td>19.2514</td>\n",
       "      <td>6.2654</td>\n",
       "      <td>...</td>\n",
       "      <td>-1.4905</td>\n",
       "      <td>9.5214</td>\n",
       "      <td>-0.1508</td>\n",
       "      <td>9.1942</td>\n",
       "      <td>13.2876</td>\n",
       "      <td>-1.5121</td>\n",
       "      <td>3.9267</td>\n",
       "      <td>9.5031</td>\n",
       "      <td>17.9974</td>\n",
       "      <td>-8.8104</td>\n",
       "    </tr>\n",
       "  </tbody>\n",
       "</table>\n",
       "<p>5 rows × 201 columns</p>\n",
       "</div>"
      ],
      "text/plain": [
       "   target    var_0   var_1    var_2   var_3    var_4   var_5   var_6    var_7  \\\n",
       "0       0   8.9255 -6.7863  11.9081  5.0930  11.4607 -9.2834  5.1187  18.6266   \n",
       "1       0  11.5006 -4.1473  13.8588  5.3890  12.3622  7.0433  5.6208  16.5338   \n",
       "2       0   8.6093 -2.7457  12.0805  7.8928  10.5825 -9.0837  6.9427  14.6155   \n",
       "3       0  11.0604 -2.1518   8.9522  7.1957  12.5846 -1.8361  5.8428  14.9250   \n",
       "4       0   9.8369 -1.4834  12.8746  6.6375  12.2772  2.4486  5.9405  19.2514   \n",
       "\n",
       "    var_8  ...  var_190  var_191  var_192  var_193  var_194  var_195  var_196  \\\n",
       "0 -4.9200  ...   4.4354   3.9642   3.1364   1.6910  18.5227  -2.3978   7.8784   \n",
       "1  3.1468  ...   7.6421   7.7214   2.5837  10.9516  15.4305   2.0339   8.1267   \n",
       "2 -4.9193  ...   2.9057   9.7905   1.6704   1.6858  21.6042   3.1417  -6.5213   \n",
       "3 -5.8609  ...   4.4666   4.7433   0.7178   1.4214  23.0347  -1.2706  -2.9275   \n",
       "4  6.2654  ...  -1.4905   9.5214  -0.1508   9.1942  13.2876  -1.5121   3.9267   \n",
       "\n",
       "   var_197  var_198  var_199  \n",
       "0   8.5635  12.7803  -1.0914  \n",
       "1   8.7889  18.3560   1.9518  \n",
       "2   8.2675  14.7222   0.3965  \n",
       "3  10.2922  17.9697  -8.9996  \n",
       "4   9.5031  17.9974  -8.8104  \n",
       "\n",
       "[5 rows x 201 columns]"
      ]
     },
     "execution_count": 4,
     "metadata": {},
     "output_type": "execute_result"
    }
   ],
   "source": [
    "train_set.head()"
   ]
  },
  {
   "cell_type": "code",
   "execution_count": 5,
   "id": "916e8b81",
   "metadata": {
    "execution": {
     "iopub.execute_input": "2025-04-30T13:16:57.821843Z",
     "iopub.status.busy": "2025-04-30T13:16:57.821562Z",
     "iopub.status.idle": "2025-04-30T13:16:57.846298Z",
     "shell.execute_reply": "2025-04-30T13:16:57.845155Z"
    },
    "papermill": {
     "duration": 0.031876,
     "end_time": "2025-04-30T13:16:57.847975",
     "exception": false,
     "start_time": "2025-04-30T13:16:57.816099",
     "status": "completed"
    },
    "tags": []
   },
   "outputs": [
    {
     "name": "stdout",
     "output_type": "stream",
     "text": [
      "<class 'pandas.core.frame.DataFrame'>\n",
      "RangeIndex: 200000 entries, 0 to 199999\n",
      "Columns: 201 entries, target to var_199\n",
      "dtypes: float64(200), int64(1)\n",
      "memory usage: 306.7 MB\n"
     ]
    }
   ],
   "source": [
    "train_set.info()"
   ]
  },
  {
   "cell_type": "code",
   "execution_count": 6,
   "id": "30e8a8bd",
   "metadata": {
    "execution": {
     "iopub.execute_input": "2025-04-30T13:16:57.860337Z",
     "iopub.status.busy": "2025-04-30T13:16:57.859587Z",
     "iopub.status.idle": "2025-04-30T13:17:00.008062Z",
     "shell.execute_reply": "2025-04-30T13:17:00.006896Z"
    },
    "papermill": {
     "duration": 2.156311,
     "end_time": "2025-04-30T13:17:00.009778",
     "exception": false,
     "start_time": "2025-04-30T13:16:57.853467",
     "status": "completed"
    },
    "tags": []
   },
   "outputs": [
    {
     "data": {
      "text/html": [
       "<div>\n",
       "<style scoped>\n",
       "    .dataframe tbody tr th:only-of-type {\n",
       "        vertical-align: middle;\n",
       "    }\n",
       "\n",
       "    .dataframe tbody tr th {\n",
       "        vertical-align: top;\n",
       "    }\n",
       "\n",
       "    .dataframe thead th {\n",
       "        text-align: right;\n",
       "    }\n",
       "</style>\n",
       "<table border=\"1\" class=\"dataframe\">\n",
       "  <thead>\n",
       "    <tr style=\"text-align: right;\">\n",
       "      <th></th>\n",
       "      <th>target</th>\n",
       "      <th>var_0</th>\n",
       "      <th>var_1</th>\n",
       "      <th>var_2</th>\n",
       "      <th>var_3</th>\n",
       "      <th>var_4</th>\n",
       "      <th>var_5</th>\n",
       "      <th>var_6</th>\n",
       "      <th>var_7</th>\n",
       "      <th>var_8</th>\n",
       "      <th>...</th>\n",
       "      <th>var_190</th>\n",
       "      <th>var_191</th>\n",
       "      <th>var_192</th>\n",
       "      <th>var_193</th>\n",
       "      <th>var_194</th>\n",
       "      <th>var_195</th>\n",
       "      <th>var_196</th>\n",
       "      <th>var_197</th>\n",
       "      <th>var_198</th>\n",
       "      <th>var_199</th>\n",
       "    </tr>\n",
       "  </thead>\n",
       "  <tbody>\n",
       "    <tr>\n",
       "      <th>count</th>\n",
       "      <td>200000.000000</td>\n",
       "      <td>200000.000000</td>\n",
       "      <td>200000.000000</td>\n",
       "      <td>200000.000000</td>\n",
       "      <td>200000.000000</td>\n",
       "      <td>200000.000000</td>\n",
       "      <td>200000.000000</td>\n",
       "      <td>200000.000000</td>\n",
       "      <td>200000.000000</td>\n",
       "      <td>200000.000000</td>\n",
       "      <td>...</td>\n",
       "      <td>200000.000000</td>\n",
       "      <td>200000.000000</td>\n",
       "      <td>200000.000000</td>\n",
       "      <td>200000.000000</td>\n",
       "      <td>200000.000000</td>\n",
       "      <td>200000.000000</td>\n",
       "      <td>200000.000000</td>\n",
       "      <td>200000.000000</td>\n",
       "      <td>200000.000000</td>\n",
       "      <td>200000.000000</td>\n",
       "    </tr>\n",
       "    <tr>\n",
       "      <th>mean</th>\n",
       "      <td>0.100490</td>\n",
       "      <td>10.679914</td>\n",
       "      <td>-1.627622</td>\n",
       "      <td>10.715192</td>\n",
       "      <td>6.796529</td>\n",
       "      <td>11.078333</td>\n",
       "      <td>-5.065317</td>\n",
       "      <td>5.408949</td>\n",
       "      <td>16.545850</td>\n",
       "      <td>0.284162</td>\n",
       "      <td>...</td>\n",
       "      <td>3.234440</td>\n",
       "      <td>7.438408</td>\n",
       "      <td>1.927839</td>\n",
       "      <td>3.331774</td>\n",
       "      <td>17.993784</td>\n",
       "      <td>-0.142088</td>\n",
       "      <td>2.303335</td>\n",
       "      <td>8.908158</td>\n",
       "      <td>15.870720</td>\n",
       "      <td>-3.326537</td>\n",
       "    </tr>\n",
       "    <tr>\n",
       "      <th>std</th>\n",
       "      <td>0.300653</td>\n",
       "      <td>3.040051</td>\n",
       "      <td>4.050044</td>\n",
       "      <td>2.640894</td>\n",
       "      <td>2.043319</td>\n",
       "      <td>1.623150</td>\n",
       "      <td>7.863267</td>\n",
       "      <td>0.866607</td>\n",
       "      <td>3.418076</td>\n",
       "      <td>3.332634</td>\n",
       "      <td>...</td>\n",
       "      <td>4.559922</td>\n",
       "      <td>3.023272</td>\n",
       "      <td>1.478423</td>\n",
       "      <td>3.992030</td>\n",
       "      <td>3.135162</td>\n",
       "      <td>1.429372</td>\n",
       "      <td>5.454369</td>\n",
       "      <td>0.921625</td>\n",
       "      <td>3.010945</td>\n",
       "      <td>10.438015</td>\n",
       "    </tr>\n",
       "    <tr>\n",
       "      <th>min</th>\n",
       "      <td>0.000000</td>\n",
       "      <td>0.408400</td>\n",
       "      <td>-15.043400</td>\n",
       "      <td>2.117100</td>\n",
       "      <td>-0.040200</td>\n",
       "      <td>5.074800</td>\n",
       "      <td>-32.562600</td>\n",
       "      <td>2.347300</td>\n",
       "      <td>5.349700</td>\n",
       "      <td>-10.505500</td>\n",
       "      <td>...</td>\n",
       "      <td>-14.093300</td>\n",
       "      <td>-2.691700</td>\n",
       "      <td>-3.814500</td>\n",
       "      <td>-11.783400</td>\n",
       "      <td>8.694400</td>\n",
       "      <td>-5.261000</td>\n",
       "      <td>-14.209600</td>\n",
       "      <td>5.960600</td>\n",
       "      <td>6.299300</td>\n",
       "      <td>-38.852800</td>\n",
       "    </tr>\n",
       "    <tr>\n",
       "      <th>25%</th>\n",
       "      <td>0.000000</td>\n",
       "      <td>8.453850</td>\n",
       "      <td>-4.740025</td>\n",
       "      <td>8.722475</td>\n",
       "      <td>5.254075</td>\n",
       "      <td>9.883175</td>\n",
       "      <td>-11.200350</td>\n",
       "      <td>4.767700</td>\n",
       "      <td>13.943800</td>\n",
       "      <td>-2.317800</td>\n",
       "      <td>...</td>\n",
       "      <td>-0.058825</td>\n",
       "      <td>5.157400</td>\n",
       "      <td>0.889775</td>\n",
       "      <td>0.584600</td>\n",
       "      <td>15.629800</td>\n",
       "      <td>-1.170700</td>\n",
       "      <td>-1.946925</td>\n",
       "      <td>8.252800</td>\n",
       "      <td>13.829700</td>\n",
       "      <td>-11.208475</td>\n",
       "    </tr>\n",
       "    <tr>\n",
       "      <th>50%</th>\n",
       "      <td>0.000000</td>\n",
       "      <td>10.524750</td>\n",
       "      <td>-1.608050</td>\n",
       "      <td>10.580000</td>\n",
       "      <td>6.825000</td>\n",
       "      <td>11.108250</td>\n",
       "      <td>-4.833150</td>\n",
       "      <td>5.385100</td>\n",
       "      <td>16.456800</td>\n",
       "      <td>0.393700</td>\n",
       "      <td>...</td>\n",
       "      <td>3.203600</td>\n",
       "      <td>7.347750</td>\n",
       "      <td>1.901300</td>\n",
       "      <td>3.396350</td>\n",
       "      <td>17.957950</td>\n",
       "      <td>-0.172700</td>\n",
       "      <td>2.408900</td>\n",
       "      <td>8.888200</td>\n",
       "      <td>15.934050</td>\n",
       "      <td>-2.819550</td>\n",
       "    </tr>\n",
       "    <tr>\n",
       "      <th>75%</th>\n",
       "      <td>0.000000</td>\n",
       "      <td>12.758200</td>\n",
       "      <td>1.358625</td>\n",
       "      <td>12.516700</td>\n",
       "      <td>8.324100</td>\n",
       "      <td>12.261125</td>\n",
       "      <td>0.924800</td>\n",
       "      <td>6.003000</td>\n",
       "      <td>19.102900</td>\n",
       "      <td>2.937900</td>\n",
       "      <td>...</td>\n",
       "      <td>6.406200</td>\n",
       "      <td>9.512525</td>\n",
       "      <td>2.949500</td>\n",
       "      <td>6.205800</td>\n",
       "      <td>20.396525</td>\n",
       "      <td>0.829600</td>\n",
       "      <td>6.556725</td>\n",
       "      <td>9.593300</td>\n",
       "      <td>18.064725</td>\n",
       "      <td>4.836800</td>\n",
       "    </tr>\n",
       "    <tr>\n",
       "      <th>max</th>\n",
       "      <td>1.000000</td>\n",
       "      <td>20.315000</td>\n",
       "      <td>10.376800</td>\n",
       "      <td>19.353000</td>\n",
       "      <td>13.188300</td>\n",
       "      <td>16.671400</td>\n",
       "      <td>17.251600</td>\n",
       "      <td>8.447700</td>\n",
       "      <td>27.691800</td>\n",
       "      <td>10.151300</td>\n",
       "      <td>...</td>\n",
       "      <td>18.440900</td>\n",
       "      <td>16.716500</td>\n",
       "      <td>8.402400</td>\n",
       "      <td>18.281800</td>\n",
       "      <td>27.928800</td>\n",
       "      <td>4.272900</td>\n",
       "      <td>18.321500</td>\n",
       "      <td>12.000400</td>\n",
       "      <td>26.079100</td>\n",
       "      <td>28.500700</td>\n",
       "    </tr>\n",
       "  </tbody>\n",
       "</table>\n",
       "<p>8 rows × 201 columns</p>\n",
       "</div>"
      ],
      "text/plain": [
       "              target          var_0          var_1          var_2  \\\n",
       "count  200000.000000  200000.000000  200000.000000  200000.000000   \n",
       "mean        0.100490      10.679914      -1.627622      10.715192   \n",
       "std         0.300653       3.040051       4.050044       2.640894   \n",
       "min         0.000000       0.408400     -15.043400       2.117100   \n",
       "25%         0.000000       8.453850      -4.740025       8.722475   \n",
       "50%         0.000000      10.524750      -1.608050      10.580000   \n",
       "75%         0.000000      12.758200       1.358625      12.516700   \n",
       "max         1.000000      20.315000      10.376800      19.353000   \n",
       "\n",
       "               var_3          var_4          var_5          var_6  \\\n",
       "count  200000.000000  200000.000000  200000.000000  200000.000000   \n",
       "mean        6.796529      11.078333      -5.065317       5.408949   \n",
       "std         2.043319       1.623150       7.863267       0.866607   \n",
       "min        -0.040200       5.074800     -32.562600       2.347300   \n",
       "25%         5.254075       9.883175     -11.200350       4.767700   \n",
       "50%         6.825000      11.108250      -4.833150       5.385100   \n",
       "75%         8.324100      12.261125       0.924800       6.003000   \n",
       "max        13.188300      16.671400      17.251600       8.447700   \n",
       "\n",
       "               var_7          var_8  ...        var_190        var_191  \\\n",
       "count  200000.000000  200000.000000  ...  200000.000000  200000.000000   \n",
       "mean       16.545850       0.284162  ...       3.234440       7.438408   \n",
       "std         3.418076       3.332634  ...       4.559922       3.023272   \n",
       "min         5.349700     -10.505500  ...     -14.093300      -2.691700   \n",
       "25%        13.943800      -2.317800  ...      -0.058825       5.157400   \n",
       "50%        16.456800       0.393700  ...       3.203600       7.347750   \n",
       "75%        19.102900       2.937900  ...       6.406200       9.512525   \n",
       "max        27.691800      10.151300  ...      18.440900      16.716500   \n",
       "\n",
       "             var_192        var_193        var_194        var_195  \\\n",
       "count  200000.000000  200000.000000  200000.000000  200000.000000   \n",
       "mean        1.927839       3.331774      17.993784      -0.142088   \n",
       "std         1.478423       3.992030       3.135162       1.429372   \n",
       "min        -3.814500     -11.783400       8.694400      -5.261000   \n",
       "25%         0.889775       0.584600      15.629800      -1.170700   \n",
       "50%         1.901300       3.396350      17.957950      -0.172700   \n",
       "75%         2.949500       6.205800      20.396525       0.829600   \n",
       "max         8.402400      18.281800      27.928800       4.272900   \n",
       "\n",
       "             var_196        var_197        var_198        var_199  \n",
       "count  200000.000000  200000.000000  200000.000000  200000.000000  \n",
       "mean        2.303335       8.908158      15.870720      -3.326537  \n",
       "std         5.454369       0.921625       3.010945      10.438015  \n",
       "min       -14.209600       5.960600       6.299300     -38.852800  \n",
       "25%        -1.946925       8.252800      13.829700     -11.208475  \n",
       "50%         2.408900       8.888200      15.934050      -2.819550  \n",
       "75%         6.556725       9.593300      18.064725       4.836800  \n",
       "max        18.321500      12.000400      26.079100      28.500700  \n",
       "\n",
       "[8 rows x 201 columns]"
      ]
     },
     "execution_count": 6,
     "metadata": {},
     "output_type": "execute_result"
    }
   ],
   "source": [
    "train_set.describe()"
   ]
  },
  {
   "cell_type": "code",
   "execution_count": 7,
   "id": "8ba32730",
   "metadata": {
    "execution": {
     "iopub.execute_input": "2025-04-30T13:17:00.024374Z",
     "iopub.status.busy": "2025-04-30T13:17:00.024012Z",
     "iopub.status.idle": "2025-04-30T13:17:00.173175Z",
     "shell.execute_reply": "2025-04-30T13:17:00.172158Z"
    },
    "papermill": {
     "duration": 0.157172,
     "end_time": "2025-04-30T13:17:00.174654",
     "exception": false,
     "start_time": "2025-04-30T13:17:00.017482",
     "status": "completed"
    },
    "tags": []
   },
   "outputs": [
    {
     "data": {
      "text/plain": [
       "target     0\n",
       "var_0      0\n",
       "var_1      0\n",
       "var_2      0\n",
       "var_3      0\n",
       "          ..\n",
       "var_195    0\n",
       "var_196    0\n",
       "var_197    0\n",
       "var_198    0\n",
       "var_199    0\n",
       "Length: 201, dtype: int64"
      ]
     },
     "execution_count": 7,
     "metadata": {},
     "output_type": "execute_result"
    }
   ],
   "source": [
    "train_set.isnull().sum()"
   ]
  },
  {
   "cell_type": "code",
   "execution_count": 8,
   "id": "5f3850f8",
   "metadata": {
    "execution": {
     "iopub.execute_input": "2025-04-30T13:17:00.186198Z",
     "iopub.status.busy": "2025-04-30T13:17:00.185839Z",
     "iopub.status.idle": "2025-04-30T13:17:02.716490Z",
     "shell.execute_reply": "2025-04-30T13:17:02.715460Z"
    },
    "papermill": {
     "duration": 2.538512,
     "end_time": "2025-04-30T13:17:02.718329",
     "exception": false,
     "start_time": "2025-04-30T13:17:00.179817",
     "status": "completed"
    },
    "tags": []
   },
   "outputs": [
    {
     "data": {
      "text/plain": [
       "0"
      ]
     },
     "execution_count": 8,
     "metadata": {},
     "output_type": "execute_result"
    }
   ],
   "source": [
    "train_set.duplicated().sum()"
   ]
  },
  {
   "cell_type": "code",
   "execution_count": 9,
   "id": "ea9403c2",
   "metadata": {
    "execution": {
     "iopub.execute_input": "2025-04-30T13:17:02.730557Z",
     "iopub.status.busy": "2025-04-30T13:17:02.730169Z",
     "iopub.status.idle": "2025-04-30T13:17:02.740283Z",
     "shell.execute_reply": "2025-04-30T13:17:02.739124Z"
    },
    "papermill": {
     "duration": 0.018401,
     "end_time": "2025-04-30T13:17:02.742185",
     "exception": false,
     "start_time": "2025-04-30T13:17:02.723784",
     "status": "completed"
    },
    "tags": []
   },
   "outputs": [
    {
     "name": "stdout",
     "output_type": "stream",
     "text": [
      "target\n",
      "0    0.89951\n",
      "1    0.10049\n",
      "Name: proportion, dtype: float64\n"
     ]
    }
   ],
   "source": [
    "#Check if the classes are unbalanced\n",
    "print(pd.Series(train_set[\"target\"]).value_counts(normalize=True))"
   ]
  },
  {
   "cell_type": "code",
   "execution_count": 10,
   "id": "6379411c",
   "metadata": {
    "execution": {
     "iopub.execute_input": "2025-04-30T13:17:02.754581Z",
     "iopub.status.busy": "2025-04-30T13:17:02.754167Z",
     "iopub.status.idle": "2025-04-30T13:17:07.448542Z",
     "shell.execute_reply": "2025-04-30T13:17:07.447551Z"
    },
    "papermill": {
     "duration": 4.702984,
     "end_time": "2025-04-30T13:17:07.450517",
     "exception": false,
     "start_time": "2025-04-30T13:17:02.747533",
     "status": "completed"
    },
    "tags": []
   },
   "outputs": [],
   "source": [
    "#Try to balance the classes\n",
    "from sklearn.model_selection import train_test_split \n",
    "from imblearn.over_sampling import RandomOverSampler\n",
    "\n",
    "X=train_set.drop(['target'],axis=1)\n",
    "y=train_set['target']\n",
    "X_over,y_over=RandomOverSampler().fit_resample(X,y)\n",
    "\n",
    "X_train, X_val, y_train, y_val = train_test_split(X_over, y_over, test_size=0.2, random_state=42, stratify=y_over)"
   ]
  },
  {
   "cell_type": "code",
   "execution_count": 11,
   "id": "b8fce9cd",
   "metadata": {
    "execution": {
     "iopub.execute_input": "2025-04-30T13:17:07.464061Z",
     "iopub.status.busy": "2025-04-30T13:17:07.463517Z",
     "iopub.status.idle": "2025-04-30T13:17:07.473336Z",
     "shell.execute_reply": "2025-04-30T13:17:07.472127Z"
    },
    "papermill": {
     "duration": 0.017864,
     "end_time": "2025-04-30T13:17:07.474755",
     "exception": false,
     "start_time": "2025-04-30T13:17:07.456891",
     "status": "completed"
    },
    "tags": []
   },
   "outputs": [
    {
     "name": "stdout",
     "output_type": "stream",
     "text": [
      "target\n",
      "1    0.500002\n",
      "0    0.499998\n",
      "Name: proportion, dtype: float64\n"
     ]
    }
   ],
   "source": [
    "print(pd.Series(y_train).value_counts(normalize=True))"
   ]
  },
  {
   "cell_type": "code",
   "execution_count": 12,
   "id": "c024f730",
   "metadata": {
    "execution": {
     "iopub.execute_input": "2025-04-30T13:17:07.487148Z",
     "iopub.status.busy": "2025-04-30T13:17:07.486825Z",
     "iopub.status.idle": "2025-04-30T13:17:13.661142Z",
     "shell.execute_reply": "2025-04-30T13:17:13.659796Z"
    },
    "papermill": {
     "duration": 6.182323,
     "end_time": "2025-04-30T13:17:13.662820",
     "exception": false,
     "start_time": "2025-04-30T13:17:07.480497",
     "status": "completed"
    },
    "tags": []
   },
   "outputs": [
    {
     "name": "stdout",
     "output_type": "stream",
     "text": [
      "Categorical features:  Index([], dtype='object')\n",
      "Numerical features:  Index(['var_0', 'var_1', 'var_2', 'var_3', 'var_4', 'var_5', 'var_6', 'var_7',\n",
      "       'var_8', 'var_9',\n",
      "       ...\n",
      "       'var_190', 'var_191', 'var_192', 'var_193', 'var_194', 'var_195',\n",
      "       'var_196', 'var_197', 'var_198', 'var_199'],\n",
      "      dtype='object', length=200)\n",
      "High skew features: []\n"
     ]
    }
   ],
   "source": [
    "#Find out which features are categorical, numerical or heavy-tailed\n",
    "categorical_cols = X_train.select_dtypes(include='object').columns\n",
    "numeric_cols = X_train.select_dtypes(include=np.number).columns\n",
    "\n",
    "print(\"Categorical features: \", categorical_cols)\n",
    "print(\"Numerical features: \", numeric_cols)\n",
    "\n",
    "from scipy.stats import skew\n",
    "numeric_cols = X_train.select_dtypes(include=np.number).columns\n",
    "skewed_feats = X_train[numeric_cols].apply(lambda x: skew(x.dropna())).sort_values(ascending=False)\n",
    "skewed_features = skewed_feats[skewed_feats > 0.8].index.tolist()\n",
    "skewed_features = [col for col in skewed_features if col in X_train.columns]\n",
    "\n",
    "print(\"High skew features:\", skewed_features)"
   ]
  },
  {
   "cell_type": "markdown",
   "id": "0889d7c3",
   "metadata": {
    "papermill": {
     "duration": 0.005823,
     "end_time": "2025-04-30T13:17:13.674668",
     "exception": false,
     "start_time": "2025-04-30T13:17:13.668845",
     "status": "completed"
    },
    "tags": []
   },
   "source": [
    "## **2) Create a pipeline for a better preprocessing**"
   ]
  },
  {
   "cell_type": "code",
   "execution_count": 13,
   "id": "1fe25089",
   "metadata": {
    "execution": {
     "iopub.execute_input": "2025-04-30T13:17:13.687583Z",
     "iopub.status.busy": "2025-04-30T13:17:13.687270Z",
     "iopub.status.idle": "2025-04-30T13:17:13.696992Z",
     "shell.execute_reply": "2025-04-30T13:17:13.696034Z"
    },
    "papermill": {
     "duration": 0.018188,
     "end_time": "2025-04-30T13:17:13.698855",
     "exception": false,
     "start_time": "2025-04-30T13:17:13.680667",
     "status": "completed"
    },
    "tags": []
   },
   "outputs": [],
   "source": [
    "from sklearn.pipeline import Pipeline, make_pipeline\n",
    "from sklearn.compose import ColumnTransformer, make_column_selector\n",
    "from sklearn.preprocessing import OneHotEncoder, StandardScaler, FunctionTransformer\n",
    "from sklearn.impute import SimpleImputer\n",
    "\n",
    "categorical_transformer = make_pipeline(                       \n",
    "    SimpleImputer(strategy=\"most_frequent\"),\n",
    "    OneHotEncoder(handle_unknown=\"ignore\")\n",
    ")\n",
    "\n",
    "numeric_transformer = make_pipeline(              \n",
    "    SimpleImputer(strategy=\"median\"),\n",
    "    StandardScaler()\n",
    ")\n",
    "\n",
    "preprocessor = ColumnTransformer([   \n",
    "    (\"cat\", categorical_transformer, categorical_cols),\n",
    "    (\"num\", numeric_transformer, numeric_cols),\n",
    "])"
   ]
  },
  {
   "cell_type": "markdown",
   "id": "76d651c2",
   "metadata": {
    "papermill": {
     "duration": 0.005089,
     "end_time": "2025-04-30T13:17:13.709794",
     "exception": false,
     "start_time": "2025-04-30T13:17:13.704705",
     "status": "completed"
    },
    "tags": []
   },
   "source": [
    "## **3) Train and evaluate on different model**"
   ]
  },
  {
   "cell_type": "code",
   "execution_count": 14,
   "id": "6d984946",
   "metadata": {
    "execution": {
     "iopub.execute_input": "2025-04-30T13:17:13.721995Z",
     "iopub.status.busy": "2025-04-30T13:17:13.721147Z",
     "iopub.status.idle": "2025-04-30T13:17:31.308188Z",
     "shell.execute_reply": "2025-04-30T13:17:31.307020Z"
    },
    "papermill": {
     "duration": 17.594669,
     "end_time": "2025-04-30T13:17:31.309612",
     "exception": false,
     "start_time": "2025-04-30T13:17:13.714943",
     "status": "completed"
    },
    "tags": []
   },
   "outputs": [
    {
     "name": "stdout",
     "output_type": "stream",
     "text": [
      "Confusion Matrix For Logistic Regression:\n",
      " [[28256  7725]\n",
      " [ 7946 28034]]\n",
      "Precision: 0.783970468972846\n",
      "Recall: 0.7791550861589772\n",
      "F1 Score: 0.7815553604036856\n",
      "ROC AUC Score: 0.8610046916707738\n"
     ]
    }
   ],
   "source": [
    "#TRAIN A LOGISTIC REGRESSION MODEL\n",
    "from sklearn.linear_model import LogisticRegression\n",
    "from sklearn.metrics import roc_auc_score, precision_score, recall_score, f1_score, confusion_matrix\n",
    "\n",
    "log_reg = Pipeline([\n",
    "    (\"preprocessor1\", preprocessor),\n",
    "    (\"log_reg\", LogisticRegression(random_state=42)),\n",
    "])\n",
    "\n",
    "log_reg.fit(X_train, y_train)\n",
    "\n",
    "#EVALUATE THE MODEL\n",
    "\n",
    "y_val_pred_1 = log_reg.predict(X_val)\n",
    "\n",
    "print(\"Confusion Matrix For Logistic Regression:\\n\", confusion_matrix(y_val, y_val_pred_1))\n",
    "\n",
    "print(f\"Precision: { precision_score(y_val, y_val_pred_1)}\")\n",
    "print(f\"Recall: {recall_score(y_val, y_val_pred_1)}\")\n",
    "print(f\"F1 Score: {f1_score(y_val, y_val_pred_1)}\")\n",
    "\n",
    "y_val_pred_proba_1 = log_reg.predict_proba(X_val)[:, 1]\n",
    "print(f\"ROC AUC Score: {roc_auc_score(y_val, y_val_pred_proba_1)}\")"
   ]
  },
  {
   "cell_type": "code",
   "execution_count": 15,
   "id": "5b346e8c",
   "metadata": {
    "execution": {
     "iopub.execute_input": "2025-04-30T13:17:31.322497Z",
     "iopub.status.busy": "2025-04-30T13:17:31.321623Z",
     "iopub.status.idle": "2025-04-30T13:31:18.958445Z",
     "shell.execute_reply": "2025-04-30T13:31:18.956693Z"
    },
    "papermill": {
     "duration": 827.64522,
     "end_time": "2025-04-30T13:31:18.960532",
     "exception": false,
     "start_time": "2025-04-30T13:17:31.315312",
     "status": "completed"
    },
    "tags": []
   },
   "outputs": [
    {
     "name": "stdout",
     "output_type": "stream",
     "text": [
      "Confusion Matrix For Random Forest:\n",
      " [[35980     1]\n",
      " [   10 35970]]\n",
      "Precision: 0.999972199827639\n",
      "Recall: 0.999722067815453\n",
      "F1 Score: 0.9998471181776487\n",
      "ROC AUC Score: 0.9999657074585672\n"
     ]
    }
   ],
   "source": [
    "from sklearn.ensemble import RandomForestClassifier\n",
    "\n",
    "rf_model = Pipeline([\n",
    "    (\"preprocessor1\", preprocessor),\n",
    "    (\"rf\", RandomForestClassifier(random_state=42))\n",
    "])\n",
    "\n",
    "rf_model.fit(X_train, y_train)\n",
    "\n",
    "y_val_pred_2 = rf_model.predict(X_val)\n",
    "\n",
    "print(\"Confusion Matrix For Random Forest:\\n\", confusion_matrix(y_val, y_val_pred_2))\n",
    "print(f\"Precision: {precision_score(y_val, y_val_pred_2)}\")\n",
    "print(f\"Recall: {recall_score(y_val, y_val_pred_2)}\")\n",
    "print(f\"F1 Score: {f1_score(y_val, y_val_pred_2)}\")\n",
    "\n",
    "y_val_pred_proba_2 = rf_model.predict_proba(X_val)[:, 1]\n",
    "print(f\"ROC AUC Score: {roc_auc_score(y_val, y_val_pred_proba_2)}\")"
   ]
  },
  {
   "cell_type": "markdown",
   "id": "2890931a",
   "metadata": {
    "papermill": {
     "duration": 0.006115,
     "end_time": "2025-04-30T13:31:18.973941",
     "exception": false,
     "start_time": "2025-04-30T13:31:18.967826",
     "status": "completed"
    },
    "tags": []
   },
   "source": [
    "### **we have found a solid model**"
   ]
  },
  {
   "cell_type": "code",
   "execution_count": 16,
   "id": "cb0ab285",
   "metadata": {
    "execution": {
     "iopub.execute_input": "2025-04-30T13:31:18.987587Z",
     "iopub.status.busy": "2025-04-30T13:31:18.986919Z",
     "iopub.status.idle": "2025-04-30T13:31:24.394202Z",
     "shell.execute_reply": "2025-04-30T13:31:24.393028Z"
    },
    "papermill": {
     "duration": 5.41693,
     "end_time": "2025-04-30T13:31:24.396324",
     "exception": false,
     "start_time": "2025-04-30T13:31:18.979394",
     "status": "completed"
    },
    "tags": []
   },
   "outputs": [
    {
     "name": "stdout",
     "output_type": "stream",
     "text": [
      "AUC Score: 1.0000\n"
     ]
    },
    {
     "data": {
      "image/png": "[encoded data removed]",
      "text/plain": [
       "<Figure size 800x600 with 1 Axes>"
      ]
     },
     "metadata": {},
     "output_type": "display_data"
    }
   ],
   "source": [
    "from sklearn.metrics import roc_curve\n",
    "import matplotlib.pyplot as plt\n",
    "\n",
    "y_val_proba = rf_model.predict_proba(X_val)[:, 1]\n",
    "\n",
    "fpr, tpr, thresholds = roc_curve(y_val, y_val_proba)\n",
    "\n",
    "roc_auc = roc_auc_score(y_val, y_val_proba)\n",
    "print(f\"AUC Score: {roc_auc:.4f}\")\n",
    "\n",
    "plt.figure(figsize=(8,6))\n",
    "plt.plot(fpr, tpr, color='blue', label=f'ROC curve (area = {roc_auc:.2f})')\n",
    "plt.plot([0, 1], [0, 1], color='red', linestyle='--')\n",
    "plt.xlabel('False Positive Rate')\n",
    "plt.ylabel('True Positive Rate')\n",
    "plt.title('Receiver Operating Characteristic (ROC) Curve')\n",
    "plt.legend()\n",
    "plt.grid()\n",
    "plt.show()"
   ]
  },
  {
   "cell_type": "markdown",
   "id": "768527fa",
   "metadata": {
    "papermill": {
     "duration": 0.006182,
     "end_time": "2025-04-30T13:31:24.410374",
     "exception": false,
     "start_time": "2025-04-30T13:31:24.404192",
     "status": "completed"
    },
    "tags": []
   },
   "source": [
    "## **4) Save the model andd make the final predictions on the test set**"
   ]
  },
  {
   "cell_type": "code",
   "execution_count": 17,
   "id": "70ce67c3",
   "metadata": {
    "execution": {
     "iopub.execute_input": "2025-04-30T13:31:24.425026Z",
     "iopub.status.busy": "2025-04-30T13:31:24.424646Z",
     "iopub.status.idle": "2025-04-30T13:31:24.844215Z",
     "shell.execute_reply": "2025-04-30T13:31:24.843161Z"
    },
    "papermill": {
     "duration": 0.429176,
     "end_time": "2025-04-30T13:31:24.845978",
     "exception": false,
     "start_time": "2025-04-30T13:31:24.416802",
     "status": "completed"
    },
    "tags": []
   },
   "outputs": [
    {
     "data": {
      "text/plain": [
       "['model_RF_final.pkl']"
      ]
     },
     "execution_count": 17,
     "metadata": {},
     "output_type": "execute_result"
    }
   ],
   "source": [
    "import joblib\n",
    "joblib.dump({'model': rf_model}, 'model_RF_final.pkl')"
   ]
  },
  {
   "cell_type": "code",
   "execution_count": 18,
   "id": "2ca8b95e",
   "metadata": {
    "execution": {
     "iopub.execute_input": "2025-04-30T13:31:24.861952Z",
     "iopub.status.busy": "2025-04-30T13:31:24.860992Z",
     "iopub.status.idle": "2025-04-30T13:31:37.872299Z",
     "shell.execute_reply": "2025-04-30T13:31:37.871030Z"
    },
    "papermill": {
     "duration": 13.020732,
     "end_time": "2025-04-30T13:31:37.873843",
     "exception": false,
     "start_time": "2025-04-30T13:31:24.853111",
     "status": "completed"
    },
    "tags": []
   },
   "outputs": [
    {
     "name": "stdout",
     "output_type": "stream",
     "text": [
      "Final submission saved as final_submission.csv\n"
     ]
    }
   ],
   "source": [
    "X_test = test_set.drop(columns=[\"ID_code\"])\n",
    "final_predictions = rf_model.predict(test_set)\n",
    "\n",
    "final_submission = pd.DataFrame({\n",
    "    'ID_code': test_set['ID_code'],\n",
    "    'targeet': final_predictions\n",
    "})\n",
    "\n",
    "final_submission.to_csv(\"/kaggle/working/final_submission.csv\", index=False)\n",
    "print(\"Final submission saved as final_submission.csv\")"
   ]
  }
 ],
 "metadata": {
  "kaggle": {
   "accelerator": "none",
   "dataSources": [
    {
     "datasetId": 203145,
     "sourceId": 446644,
     "sourceType": "datasetVersion"
    }
   ],
   "dockerImageVersionId": 31012,
   "isGpuEnabled": false,
   "isInternetEnabled": true,
   "language": "python",
   "sourceType": "notebook"
  },
  "kernelspec": {
   "display_name": "Python 3",
   "language": "python",
   "name": "python3"
  },
  "language_info": {
   "codemirror_mode": {
    "name": "ipython",
    "version": 3
   },
   "file_extension": ".py",
   "mimetype": "text/x-python",
   "name": "python",
   "nbconvert_exporter": "python",
   "pygments_lexer": "ipython3",
   "version": "3.11.11"
  },
  "papermill": {
   "default_parameters": {},
   "duration": 944.654281,
   "end_time": "2025-04-30T13:31:40.730988",
   "environment_variables": {},
   "exception": null,
   "input_path": "__notebook__.ipynb",
   "output_path": "__notebook__.ipynb",
   "parameters": {},
   "start_time": "2025-04-30T13:15:56.076707",
   "version": "2.6.0"
  }
 },
 "nbformat": 4,
 "nbformat_minor": 5
}
